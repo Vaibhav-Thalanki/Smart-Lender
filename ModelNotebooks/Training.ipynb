{
 "cells": [
  {
   "cell_type": "code",
   "execution_count": 4,
   "id": "2398b7e0",
   "metadata": {},
   "outputs": [],
   "source": [
    "import pandas as pd\n",
    "import numpy as np\n",
    "import matplotlib.pyplot as plt\n",
    "import seaborn as sns\n",
    "from scipy.stats import norm\n",
    "import pickle\n",
    "from sklearn.preprocessing import LabelEncoder,OneHotEncoder\n",
    "from sklearn.model_selection import train_test_split\n",
    "from sklearn.preprocessing import StandardScaler\n",
    "from sklearn.tree import DecisionTreeClassifier\n",
    "from sklearn.ensemble import RandomForestClassifier\n",
    "from sklearn.neighbors import KNeighborsClassifier\n",
    "from sklearn.metrics import confusion_matrix,classification_report,accuracy_score,f1_score\n",
    "import xgboost as xgb\n",
    "from sklearn.ensemble import GradientBoostingClassifier"
   ]
  },
  {
   "cell_type": "code",
   "execution_count": 5,
   "id": "94e7e314",
   "metadata": {},
   "outputs": [
    {
     "data": {
      "text/html": [
       "<div>\n",
       "<style scoped>\n",
       "    .dataframe tbody tr th:only-of-type {\n",
       "        vertical-align: middle;\n",
       "    }\n",
       "\n",
       "    .dataframe tbody tr th {\n",
       "        vertical-align: top;\n",
       "    }\n",
       "\n",
       "    .dataframe thead th {\n",
       "        text-align: right;\n",
       "    }\n",
       "</style>\n",
       "<table border=\"1\" class=\"dataframe\">\n",
       "  <thead>\n",
       "    <tr style=\"text-align: right;\">\n",
       "      <th></th>\n",
       "      <th>ApplicantIncome</th>\n",
       "      <th>CoapplicantIncome</th>\n",
       "      <th>LoanAmount</th>\n",
       "      <th>Loan_Amount_Term</th>\n",
       "      <th>Credit_History</th>\n",
       "    </tr>\n",
       "  </thead>\n",
       "  <tbody>\n",
       "    <tr>\n",
       "      <th>count</th>\n",
       "      <td>614.000000</td>\n",
       "      <td>614.000000</td>\n",
       "      <td>592.000000</td>\n",
       "      <td>600.00000</td>\n",
       "      <td>564.000000</td>\n",
       "    </tr>\n",
       "    <tr>\n",
       "      <th>mean</th>\n",
       "      <td>5403.459283</td>\n",
       "      <td>1621.245798</td>\n",
       "      <td>146.412162</td>\n",
       "      <td>342.00000</td>\n",
       "      <td>0.842199</td>\n",
       "    </tr>\n",
       "    <tr>\n",
       "      <th>std</th>\n",
       "      <td>6109.041673</td>\n",
       "      <td>2926.248369</td>\n",
       "      <td>85.587325</td>\n",
       "      <td>65.12041</td>\n",
       "      <td>0.364878</td>\n",
       "    </tr>\n",
       "    <tr>\n",
       "      <th>min</th>\n",
       "      <td>150.000000</td>\n",
       "      <td>0.000000</td>\n",
       "      <td>9.000000</td>\n",
       "      <td>12.00000</td>\n",
       "      <td>0.000000</td>\n",
       "    </tr>\n",
       "    <tr>\n",
       "      <th>25%</th>\n",
       "      <td>2877.500000</td>\n",
       "      <td>0.000000</td>\n",
       "      <td>100.000000</td>\n",
       "      <td>360.00000</td>\n",
       "      <td>1.000000</td>\n",
       "    </tr>\n",
       "    <tr>\n",
       "      <th>50%</th>\n",
       "      <td>3812.500000</td>\n",
       "      <td>1188.500000</td>\n",
       "      <td>128.000000</td>\n",
       "      <td>360.00000</td>\n",
       "      <td>1.000000</td>\n",
       "    </tr>\n",
       "    <tr>\n",
       "      <th>75%</th>\n",
       "      <td>5795.000000</td>\n",
       "      <td>2297.250000</td>\n",
       "      <td>168.000000</td>\n",
       "      <td>360.00000</td>\n",
       "      <td>1.000000</td>\n",
       "    </tr>\n",
       "    <tr>\n",
       "      <th>max</th>\n",
       "      <td>81000.000000</td>\n",
       "      <td>41667.000000</td>\n",
       "      <td>700.000000</td>\n",
       "      <td>480.00000</td>\n",
       "      <td>1.000000</td>\n",
       "    </tr>\n",
       "  </tbody>\n",
       "</table>\n",
       "</div>"
      ],
      "text/plain": [
       "       ApplicantIncome  CoapplicantIncome  LoanAmount  Loan_Amount_Term  \\\n",
       "count       614.000000         614.000000  592.000000         600.00000   \n",
       "mean       5403.459283        1621.245798  146.412162         342.00000   \n",
       "std        6109.041673        2926.248369   85.587325          65.12041   \n",
       "min         150.000000           0.000000    9.000000          12.00000   \n",
       "25%        2877.500000           0.000000  100.000000         360.00000   \n",
       "50%        3812.500000        1188.500000  128.000000         360.00000   \n",
       "75%        5795.000000        2297.250000  168.000000         360.00000   \n",
       "max       81000.000000       41667.000000  700.000000         480.00000   \n",
       "\n",
       "       Credit_History  \n",
       "count      564.000000  \n",
       "mean         0.842199  \n",
       "std          0.364878  \n",
       "min          0.000000  \n",
       "25%          1.000000  \n",
       "50%          1.000000  \n",
       "75%          1.000000  \n",
       "max          1.000000  "
      ]
     },
     "execution_count": 5,
     "metadata": {},
     "output_type": "execute_result"
    }
   ],
   "source": [
    "data = pd.read_csv(\"data/loan_approval.CSV\")\n",
    "data.describe()"
   ]
  },
  {
   "cell_type": "markdown",
   "id": "497051af",
   "metadata": {},
   "source": [
    "## CLEANING DATA"
   ]
  },
  {
   "cell_type": "code",
   "execution_count": 6,
   "id": "eefde6d0",
   "metadata": {
    "scrolled": true
   },
   "outputs": [
    {
     "data": {
      "text/plain": [
       "Loan_ID              False\n",
       "Gender                True\n",
       "Married               True\n",
       "Dependents            True\n",
       "Education            False\n",
       "Self_Employed         True\n",
       "ApplicantIncome      False\n",
       "CoapplicantIncome    False\n",
       "LoanAmount            True\n",
       "Loan_Amount_Term      True\n",
       "Credit_History        True\n",
       "Property_Area        False\n",
       "Loan_Status          False\n",
       "dtype: bool"
      ]
     },
     "execution_count": 6,
     "metadata": {},
     "output_type": "execute_result"
    }
   ],
   "source": [
    "data.isnull().any()"
   ]
  },
  {
   "cell_type": "code",
   "execution_count": 7,
   "id": "3e6cc1e6",
   "metadata": {
    "scrolled": true
   },
   "outputs": [
    {
     "data": {
      "text/plain": [
       "Loan_ID               0\n",
       "Gender               13\n",
       "Married               3\n",
       "Dependents           15\n",
       "Education             0\n",
       "Self_Employed        32\n",
       "ApplicantIncome       0\n",
       "CoapplicantIncome     0\n",
       "LoanAmount           22\n",
       "Loan_Amount_Term     14\n",
       "Credit_History       50\n",
       "Property_Area         0\n",
       "Loan_Status           0\n",
       "dtype: int64"
      ]
     },
     "execution_count": 7,
     "metadata": {},
     "output_type": "execute_result"
    }
   ],
   "source": [
    "#counting number of missing values\n",
    "data.isnull().sum()"
   ]
  },
  {
   "cell_type": "code",
   "execution_count": 8,
   "id": "b42d548b",
   "metadata": {},
   "outputs": [
    {
     "name": "stderr",
     "output_type": "stream",
     "text": [
      "C:\\Users\\vaibh\\AppData\\Local\\Temp\\ipykernel_26816\\2380775249.py:1: FutureWarning: A value is trying to be set on a copy of a DataFrame or Series through chained assignment using an inplace method.\n",
      "The behavior will change in pandas 3.0. This inplace method will never work because the intermediate object on which we are setting values always behaves as a copy.\n",
      "\n",
      "For example, when doing 'df[col].method(value, inplace=True)', try using 'df.method({col: value}, inplace=True)' or df[col] = df[col].method(value) instead, to perform the operation inplace on the original object.\n",
      "\n",
      "\n",
      "  data['Gender'].fillna(data['Gender'].mode()[0],inplace=True)\n",
      "C:\\Users\\vaibh\\AppData\\Local\\Temp\\ipykernel_26816\\2380775249.py:2: FutureWarning: A value is trying to be set on a copy of a DataFrame or Series through chained assignment using an inplace method.\n",
      "The behavior will change in pandas 3.0. This inplace method will never work because the intermediate object on which we are setting values always behaves as a copy.\n",
      "\n",
      "For example, when doing 'df[col].method(value, inplace=True)', try using 'df.method({col: value}, inplace=True)' or df[col] = df[col].method(value) instead, to perform the operation inplace on the original object.\n",
      "\n",
      "\n",
      "  data['Married'].fillna(data['Married'].mode()[0],inplace=True)\n",
      "C:\\Users\\vaibh\\AppData\\Local\\Temp\\ipykernel_26816\\2380775249.py:3: FutureWarning: A value is trying to be set on a copy of a DataFrame or Series through chained assignment using an inplace method.\n",
      "The behavior will change in pandas 3.0. This inplace method will never work because the intermediate object on which we are setting values always behaves as a copy.\n",
      "\n",
      "For example, when doing 'df[col].method(value, inplace=True)', try using 'df.method({col: value}, inplace=True)' or df[col] = df[col].method(value) instead, to perform the operation inplace on the original object.\n",
      "\n",
      "\n",
      "  data['Dependents'].fillna(data['Dependents'].mode()[0],inplace=True)\n",
      "C:\\Users\\vaibh\\AppData\\Local\\Temp\\ipykernel_26816\\2380775249.py:4: FutureWarning: A value is trying to be set on a copy of a DataFrame or Series through chained assignment using an inplace method.\n",
      "The behavior will change in pandas 3.0. This inplace method will never work because the intermediate object on which we are setting values always behaves as a copy.\n",
      "\n",
      "For example, when doing 'df[col].method(value, inplace=True)', try using 'df.method({col: value}, inplace=True)' or df[col] = df[col].method(value) instead, to perform the operation inplace on the original object.\n",
      "\n",
      "\n",
      "  data['Self_Employed'].fillna(data['Self_Employed'].mode()[0],inplace=True)\n",
      "C:\\Users\\vaibh\\AppData\\Local\\Temp\\ipykernel_26816\\2380775249.py:5: FutureWarning: A value is trying to be set on a copy of a DataFrame or Series through chained assignment using an inplace method.\n",
      "The behavior will change in pandas 3.0. This inplace method will never work because the intermediate object on which we are setting values always behaves as a copy.\n",
      "\n",
      "For example, when doing 'df[col].method(value, inplace=True)', try using 'df.method({col: value}, inplace=True)' or df[col] = df[col].method(value) instead, to perform the operation inplace on the original object.\n",
      "\n",
      "\n",
      "  data['LoanAmount'].fillna(data['LoanAmount'].median(),inplace=True)\n",
      "C:\\Users\\vaibh\\AppData\\Local\\Temp\\ipykernel_26816\\2380775249.py:6: FutureWarning: A value is trying to be set on a copy of a DataFrame or Series through chained assignment using an inplace method.\n",
      "The behavior will change in pandas 3.0. This inplace method will never work because the intermediate object on which we are setting values always behaves as a copy.\n",
      "\n",
      "For example, when doing 'df[col].method(value, inplace=True)', try using 'df.method({col: value}, inplace=True)' or df[col] = df[col].method(value) instead, to perform the operation inplace on the original object.\n",
      "\n",
      "\n",
      "  data['Loan_Amount_Term'].fillna(data['Loan_Amount_Term'].median(),inplace=True)\n",
      "C:\\Users\\vaibh\\AppData\\Local\\Temp\\ipykernel_26816\\2380775249.py:7: FutureWarning: A value is trying to be set on a copy of a DataFrame or Series through chained assignment using an inplace method.\n",
      "The behavior will change in pandas 3.0. This inplace method will never work because the intermediate object on which we are setting values always behaves as a copy.\n",
      "\n",
      "For example, when doing 'df[col].method(value, inplace=True)', try using 'df.method({col: value}, inplace=True)' or df[col] = df[col].method(value) instead, to perform the operation inplace on the original object.\n",
      "\n",
      "\n",
      "  data['Credit_History'].fillna(data['Credit_History'].mode()[0],inplace=True)\n"
     ]
    }
   ],
   "source": [
    "data['Gender'].fillna(data['Gender'].mode()[0],inplace=True)\n",
    "data['Married'].fillna(data['Married'].mode()[0],inplace=True)\n",
    "data['Dependents'].fillna(data['Dependents'].mode()[0],inplace=True)\n",
    "data['Self_Employed'].fillna(data['Self_Employed'].mode()[0],inplace=True)\n",
    "data['LoanAmount'].fillna(data['LoanAmount'].median(),inplace=True)\n",
    "data['Loan_Amount_Term'].fillna(data['Loan_Amount_Term'].median(),inplace=True)\n",
    "data['Credit_History'].fillna(data['Credit_History'].mode()[0],inplace=True)"
   ]
  },
  {
   "cell_type": "code",
   "execution_count": 9,
   "id": "322103f2",
   "metadata": {
    "scrolled": true
   },
   "outputs": [
    {
     "data": {
      "text/plain": [
       "Loan_ID              False\n",
       "Gender               False\n",
       "Married              False\n",
       "Dependents           False\n",
       "Education            False\n",
       "Self_Employed        False\n",
       "ApplicantIncome      False\n",
       "CoapplicantIncome    False\n",
       "LoanAmount           False\n",
       "Loan_Amount_Term     False\n",
       "Credit_History       False\n",
       "Property_Area        False\n",
       "Loan_Status          False\n",
       "dtype: bool"
      ]
     },
     "execution_count": 9,
     "metadata": {},
     "output_type": "execute_result"
    }
   ],
   "source": [
    "data.isnull().any()"
   ]
  },
  {
   "cell_type": "code",
   "execution_count": 10,
   "id": "3fd32db1",
   "metadata": {},
   "outputs": [
    {
     "data": {
      "text/html": [
       "<div>\n",
       "<style scoped>\n",
       "    .dataframe tbody tr th:only-of-type {\n",
       "        vertical-align: middle;\n",
       "    }\n",
       "\n",
       "    .dataframe tbody tr th {\n",
       "        vertical-align: top;\n",
       "    }\n",
       "\n",
       "    .dataframe thead th {\n",
       "        text-align: right;\n",
       "    }\n",
       "</style>\n",
       "<table border=\"1\" class=\"dataframe\">\n",
       "  <thead>\n",
       "    <tr style=\"text-align: right;\">\n",
       "      <th></th>\n",
       "      <th>Dependents</th>\n",
       "      <th>Education</th>\n",
       "      <th>ApplicantIncome</th>\n",
       "      <th>CoapplicantIncome</th>\n",
       "      <th>LoanAmount</th>\n",
       "      <th>Loan_Amount_Term</th>\n",
       "      <th>Credit_History</th>\n",
       "      <th>Property_Area</th>\n",
       "      <th>Loan_Status</th>\n",
       "    </tr>\n",
       "  </thead>\n",
       "  <tbody>\n",
       "    <tr>\n",
       "      <th>0</th>\n",
       "      <td>0</td>\n",
       "      <td>Graduate</td>\n",
       "      <td>5849</td>\n",
       "      <td>0.0</td>\n",
       "      <td>128.0</td>\n",
       "      <td>360.0</td>\n",
       "      <td>1.0</td>\n",
       "      <td>Urban</td>\n",
       "      <td>Y</td>\n",
       "    </tr>\n",
       "    <tr>\n",
       "      <th>1</th>\n",
       "      <td>1</td>\n",
       "      <td>Graduate</td>\n",
       "      <td>4583</td>\n",
       "      <td>1508.0</td>\n",
       "      <td>128.0</td>\n",
       "      <td>360.0</td>\n",
       "      <td>1.0</td>\n",
       "      <td>Rural</td>\n",
       "      <td>N</td>\n",
       "    </tr>\n",
       "    <tr>\n",
       "      <th>2</th>\n",
       "      <td>0</td>\n",
       "      <td>Graduate</td>\n",
       "      <td>3000</td>\n",
       "      <td>0.0</td>\n",
       "      <td>66.0</td>\n",
       "      <td>360.0</td>\n",
       "      <td>1.0</td>\n",
       "      <td>Urban</td>\n",
       "      <td>Y</td>\n",
       "    </tr>\n",
       "    <tr>\n",
       "      <th>3</th>\n",
       "      <td>0</td>\n",
       "      <td>Not Graduate</td>\n",
       "      <td>2583</td>\n",
       "      <td>2358.0</td>\n",
       "      <td>120.0</td>\n",
       "      <td>360.0</td>\n",
       "      <td>1.0</td>\n",
       "      <td>Urban</td>\n",
       "      <td>Y</td>\n",
       "    </tr>\n",
       "    <tr>\n",
       "      <th>4</th>\n",
       "      <td>0</td>\n",
       "      <td>Graduate</td>\n",
       "      <td>6000</td>\n",
       "      <td>0.0</td>\n",
       "      <td>141.0</td>\n",
       "      <td>360.0</td>\n",
       "      <td>1.0</td>\n",
       "      <td>Urban</td>\n",
       "      <td>Y</td>\n",
       "    </tr>\n",
       "  </tbody>\n",
       "</table>\n",
       "</div>"
      ],
      "text/plain": [
       "  Dependents     Education  ApplicantIncome  CoapplicantIncome  LoanAmount  \\\n",
       "0          0      Graduate             5849                0.0       128.0   \n",
       "1          1      Graduate             4583             1508.0       128.0   \n",
       "2          0      Graduate             3000                0.0        66.0   \n",
       "3          0  Not Graduate             2583             2358.0       120.0   \n",
       "4          0      Graduate             6000                0.0       141.0   \n",
       "\n",
       "   Loan_Amount_Term  Credit_History Property_Area Loan_Status  \n",
       "0             360.0             1.0         Urban           Y  \n",
       "1             360.0             1.0         Rural           N  \n",
       "2             360.0             1.0         Urban           Y  \n",
       "3             360.0             1.0         Urban           Y  \n",
       "4             360.0             1.0         Urban           Y  "
      ]
     },
     "execution_count": 10,
     "metadata": {},
     "output_type": "execute_result"
    }
   ],
   "source": [
    "data=data.drop(['Loan_ID','Gender','Married','Self_Employed'],axis=1)\n",
    "data.head()"
   ]
  },
  {
   "cell_type": "code",
   "execution_count": 10,
   "id": "9022c410",
   "metadata": {},
   "outputs": [],
   "source": [
    "#label encoding\n",
    "le = LabelEncoder()\n",
    "data['Education'] = le.fit_transform(data['Education'])\n",
    "data['Loan_Status'] = le.fit_transform(data['Loan_Status'])\n",
    "data['Property_Area'] = le.fit_transform(data['Property_Area'])\n",
    "data['Dependents'] = le.fit_transform(data['Dependents'])"
   ]
  },
  {
   "cell_type": "markdown",
   "id": "e43c1902",
   "metadata": {},
   "source": [
    "#### Education \n",
    "- 0 is graduate\n",
    "- 1 is not graduate\n",
    "#### Loan_Status\n",
    "- 0 is N\n",
    "- 1 is Y\n",
    "#### Property_Area\n",
    "- 0 is rural\n",
    "- 1 is semiurban\n",
    "- 2 is urban\n",
    "#### Dependents\n",
    "- 0 is 0\n",
    "- 1 is 1\n",
    "- 2 is 2\n",
    "- 3 is 3+"
   ]
  },
  {
   "cell_type": "code",
   "execution_count": 12,
   "id": "d81d550e",
   "metadata": {},
   "outputs": [],
   "source": [
    "# divide data\n",
    "x = data.iloc[:,:8].values\n",
    "y = data.iloc[:,8:].values"
   ]
  },
  {
   "cell_type": "code",
   "execution_count": 13,
   "id": "1ea66501",
   "metadata": {},
   "outputs": [],
   "source": [
    "#one hot encoding for Property Area and Dependents\n",
    "one = OneHotEncoder()\n",
    "dependents = one.fit_transform(x[:,:1]).toarray()\n",
    "property = one.fit_transform(x[:,7:8]).toarray()"
   ]
  },
  {
   "cell_type": "code",
   "execution_count": 14,
   "id": "166bdd93",
   "metadata": {},
   "outputs": [],
   "source": [
    "x = np.delete(x,0,axis=1)"
   ]
  },
  {
   "cell_type": "code",
   "execution_count": 15,
   "id": "b20eae75",
   "metadata": {},
   "outputs": [],
   "source": [
    "x = np.delete(x,6,axis=1)"
   ]
  },
  {
   "cell_type": "code",
   "execution_count": 16,
   "id": "1061281d",
   "metadata": {},
   "outputs": [],
   "source": [
    "x = np.concatenate((x,dependents),axis=1)"
   ]
  },
  {
   "cell_type": "code",
   "execution_count": 17,
   "id": "da5fa658",
   "metadata": {},
   "outputs": [
    {
     "data": {
      "text/plain": [
       "(614, 13)"
      ]
     },
     "execution_count": 17,
     "metadata": {},
     "output_type": "execute_result"
    }
   ],
   "source": [
    "x = np.concatenate((x,property),axis=1)\n",
    "x.shape"
   ]
  },
  {
   "cell_type": "markdown",
   "id": "a24cbc77",
   "metadata": {},
   "source": [
    "##### Education, Applicant Income, CoapplicantIncome, LoanAmount, Loan_Amount_Term, Credit_History, dependents(4), property(3)\n",
    "\n",
    "#### dependants\n",
    "- 0001 is 0\n",
    "- 0010 is 1\n",
    "- 0100 is 2\n",
    "- 1000 is 3+\n",
    "\n",
    "#### property\n",
    "- 001 is rural\n",
    "- 010 is semiurban\n",
    "- 100 is urban"
   ]
  },
  {
   "cell_type": "code",
   "execution_count": 18,
   "id": "b9b575d7",
   "metadata": {},
   "outputs": [],
   "source": [
    "from sklearn.model_selection import train_test_split\n",
    "x_train,x_test,y_train,y_test = train_test_split(x,y,test_size=0.2,random_state=0)"
   ]
  },
  {
   "cell_type": "code",
   "execution_count": 19,
   "id": "f8b4ba0e",
   "metadata": {},
   "outputs": [],
   "source": [
    "#standard scaling because classification\n",
    "sc =  StandardScaler()\n",
    "x_train = sc.fit_transform(x_train)\n",
    "x_test = sc.transform(x_test)\n"
   ]
  },
  {
   "cell_type": "code",
   "execution_count": null,
   "id": "dd5b1f19",
   "metadata": {},
   "outputs": [],
   "source": [
    "pickle.dump(sc,open(\"res/scaler.pkl\",\"wb\"))"
   ]
  },
  {
   "cell_type": "code",
   "execution_count": null,
   "id": "cd7276b0",
   "metadata": {},
   "outputs": [],
   "source": [
    "np.save('res/x_train.npy', x_train)\n",
    "np.save('res/x_test.npy', x_test)"
   ]
  },
  {
   "cell_type": "markdown",
   "id": "f1294f63",
   "metadata": {},
   "source": [
    "## MODEL BUILDING\n"
   ]
  },
  {
   "cell_type": "code",
   "execution_count": 11,
   "id": "942c7581",
   "metadata": {},
   "outputs": [],
   "source": [
    "from sklearn.model_selection import GridSearchCV\n",
    "from sklearn.metrics import accuracy_score, classification_report, confusion_matrix\n",
    "from sklearn.ensemble import RandomForestClassifier\n",
    "from sklearn.neighbors import KNeighborsClassifier\n",
    "from sklearn.tree import DecisionTreeClassifier\n",
    "import xgboost as xgb"
   ]
  },
  {
   "cell_type": "code",
   "execution_count": null,
   "id": "8ea28fa3",
   "metadata": {},
   "outputs": [],
   "source": [
    "\n",
    "def xgboost_cv(x_train, y_train):\n",
    "    param_grid = {\n",
    "        'learning_rate': [0.05, 0.1, 0.25, 0.5],\n",
    "        'max_depth': [3, 5, 7],\n",
    "        'n_estimators': [50, 100, 200]\n",
    "    }\n",
    "    xg = xgb.XGBClassifier(objective=\"binary:logistic\", random_state=42)\n",
    "    grid_search = GridSearchCV(xg, param_grid, cv=5, scoring='accuracy', verbose=1)\n",
    "    grid_search.fit(x_train, y_train.ravel())\n",
    "    \n",
    "    print(\"Best Parameters for XGBoost:\", grid_search.best_params_)\n",
    "    print(\"Best Cross-Validation Accuracy:\", grid_search.best_score_)\n",
    "    best_model = grid_search.best_estimator_\n",
    "    \n",
    "    return best_model\n",
    "\n",
    "def KNN_cv(x_train, y_train):\n",
    "    param_grid = {\n",
    "        'n_neighbors': [3, 5, 7, 10],\n",
    "        'metric': ['euclidean', 'manhattan', 'minkowski']\n",
    "    }\n",
    "    knn = KNeighborsClassifier()\n",
    "    grid_search = GridSearchCV(knn, param_grid, cv=5, scoring='accuracy', verbose=1)\n",
    "    grid_search.fit(x_train, y_train.ravel())\n",
    "    \n",
    "    print(\"Best Parameters for KNN:\", grid_search.best_params_)\n",
    "    print(\"Best Cross-Validation Accuracy:\", grid_search.best_score_)\n",
    "    best_model = grid_search.best_estimator_\n",
    "    \n",
    "    return best_model\n",
    "\n",
    "def randomForest_cv(x_train, y_train):\n",
    "    param_grid = {\n",
    "        'n_estimators': [10, 50, 100],\n",
    "        'criterion': ['gini', 'entropy'],\n",
    "        'max_depth': [None, 10, 20, 30]\n",
    "    }\n",
    "    rfc = RandomForestClassifier(random_state=0)\n",
    "    grid_search = GridSearchCV(rfc, param_grid, cv=5, scoring='accuracy', verbose=1)\n",
    "    grid_search.fit(x_train, y_train.ravel())\n",
    "    \n",
    "    print(\"Best Parameters for Random Forest:\", grid_search.best_params_)\n",
    "    print(\"Best Cross-Validation Accuracy:\", grid_search.best_score_)\n",
    "    best_model = grid_search.best_estimator_\n",
    "    \n",
    "    return best_model\n",
    "\n",
    "def decisionTree_cv(x_train, y_train):\n",
    "    param_grid = {\n",
    "        'criterion': ['gini', 'entropy'],\n",
    "        'max_depth': [None, 10, 20, 30]\n",
    "    }\n",
    "    dtc = DecisionTreeClassifier(random_state=0)\n",
    "    grid_search = GridSearchCV(dtc, param_grid, cv=5, scoring='accuracy', verbose=1)\n",
    "    grid_search.fit(x_train, y_train.ravel())\n",
    "    \n",
    "    print(\"Best Parameters for Decision Tree:\", grid_search.best_params_)\n",
    "    print(\"Best Cross-Validation Accuracy:\", grid_search.best_score_)\n",
    "    best_model = grid_search.best_estimator_\n",
    "    \n",
    "    return best_model\n",
    "\n",
    "def evaluate_model(model, x_test, y_test):\n",
    "    y_pred = model.predict(x_test)\n",
    "    print(\"Confusion Matrix:\\n\", confusion_matrix(y_test, y_pred))\n",
    "    print(\"Classification Report:\\n\", classification_report(y_test, y_pred))\n",
    "    print(\"Test Accuracy: \", accuracy_score(y_test, y_pred))\n"
   ]
  },
  {
   "cell_type": "code",
   "execution_count": 40,
   "id": "9b94edfc",
   "metadata": {},
   "outputs": [
    {
     "name": "stdout",
     "output_type": "stream",
     "text": [
      "Fitting 5 folds for each of 36 candidates, totalling 180 fits\n",
      "Best Parameters for XGBoost: {'learning_rate': 0.05, 'max_depth': 3, 'n_estimators': 50}\n",
      "Best Cross-Validation Accuracy: 0.8003710575139147\n",
      "Confusion Matrix:\n",
      " [[14 19]\n",
      " [ 2 88]]\n",
      "Classification Report:\n",
      "               precision    recall  f1-score   support\n",
      "\n",
      "           0       0.88      0.42      0.57        33\n",
      "           1       0.82      0.98      0.89        90\n",
      "\n",
      "    accuracy                           0.83       123\n",
      "   macro avg       0.85      0.70      0.73       123\n",
      "weighted avg       0.84      0.83      0.81       123\n",
      "\n",
      "Test Accuracy:  0.8292682926829268\n"
     ]
    }
   ],
   "source": [
    "# Finding the best model for each classifier with optimized hyperparameters\n",
    "best_xgboost_model = xgboost_cv(x_train, y_train)\n",
    "evaluate_model(best_xgboost_model, x_test, y_test)\n",
    "\n",
    "\n"
   ]
  },
  {
   "cell_type": "code",
   "execution_count": 41,
   "id": "9d138af0",
   "metadata": {},
   "outputs": [
    {
     "name": "stdout",
     "output_type": "stream",
     "text": [
      "Fitting 5 folds for each of 12 candidates, totalling 60 fits\n",
      "Best Parameters for KNN: {'metric': 'euclidean', 'n_neighbors': 3}\n",
      "Best Cross-Validation Accuracy: 0.7656977942692229\n",
      "Confusion Matrix:\n",
      " [[14 19]\n",
      " [12 78]]\n",
      "Classification Report:\n",
      "               precision    recall  f1-score   support\n",
      "\n",
      "           0       0.54      0.42      0.47        33\n",
      "           1       0.80      0.87      0.83        90\n",
      "\n",
      "    accuracy                           0.75       123\n",
      "   macro avg       0.67      0.65      0.65       123\n",
      "weighted avg       0.73      0.75      0.74       123\n",
      "\n",
      "Test Accuracy:  0.7479674796747967\n"
     ]
    }
   ],
   "source": [
    "best_knn_model = KNN_cv(x_train, y_train)\n",
    "evaluate_model(best_knn_model, x_test, y_test)\n"
   ]
  },
  {
   "cell_type": "code",
   "execution_count": 42,
   "id": "187203db",
   "metadata": {},
   "outputs": [
    {
     "name": "stdout",
     "output_type": "stream",
     "text": [
      "Fitting 5 folds for each of 24 candidates, totalling 120 fits\n",
      "Best Parameters for Random Forest: {'criterion': 'entropy', 'max_depth': 10, 'n_estimators': 100}\n",
      "Best Cross-Validation Accuracy: 0.8044526901669761\n",
      "Confusion Matrix:\n",
      " [[14 19]\n",
      " [ 4 86]]\n",
      "Classification Report:\n",
      "               precision    recall  f1-score   support\n",
      "\n",
      "           0       0.78      0.42      0.55        33\n",
      "           1       0.82      0.96      0.88        90\n",
      "\n",
      "    accuracy                           0.81       123\n",
      "   macro avg       0.80      0.69      0.72       123\n",
      "weighted avg       0.81      0.81      0.79       123\n",
      "\n",
      "Test Accuracy:  0.8130081300813008\n"
     ]
    }
   ],
   "source": [
    "\n",
    "best_rf_model = randomForest_cv(x_train, y_train)\n",
    "evaluate_model(best_rf_model, x_test, y_test)\n"
   ]
  },
  {
   "cell_type": "code",
   "execution_count": 43,
   "id": "4f24458d",
   "metadata": {},
   "outputs": [
    {
     "name": "stdout",
     "output_type": "stream",
     "text": [
      "Fitting 5 folds for each of 8 candidates, totalling 40 fits\n",
      "Best Parameters for Decision Tree: {'criterion': 'entropy', 'max_depth': 10}\n",
      "Best Cross-Validation Accuracy: 0.7433106575963719\n",
      "Confusion Matrix:\n",
      " [[19 14]\n",
      " [14 76]]\n",
      "Classification Report:\n",
      "               precision    recall  f1-score   support\n",
      "\n",
      "           0       0.58      0.58      0.58        33\n",
      "           1       0.84      0.84      0.84        90\n",
      "\n",
      "    accuracy                           0.77       123\n",
      "   macro avg       0.71      0.71      0.71       123\n",
      "weighted avg       0.77      0.77      0.77       123\n",
      "\n",
      "Test Accuracy:  0.7723577235772358\n"
     ]
    }
   ],
   "source": [
    "\n",
    "best_dt_model = decisionTree_cv(x_train, y_train)\n",
    "evaluate_model(best_dt_model, x_test, y_test)"
   ]
  },
  {
   "cell_type": "code",
   "execution_count": null,
   "id": "f4727fd8",
   "metadata": {},
   "outputs": [],
   "source": [
    "pickle.dump(best_xgboost_model,open(\"res/model.pkl\",\"wb\"))"
   ]
  }
 ],
 "metadata": {
  "kernelspec": {
   "display_name": "supervenv",
   "language": "python",
   "name": "python3"
  },
  "language_info": {
   "codemirror_mode": {
    "name": "ipython",
    "version": 3
   },
   "file_extension": ".py",
   "mimetype": "text/x-python",
   "name": "python",
   "nbconvert_exporter": "python",
   "pygments_lexer": "ipython3",
   "version": "3.12.6"
  }
 },
 "nbformat": 4,
 "nbformat_minor": 5
}
